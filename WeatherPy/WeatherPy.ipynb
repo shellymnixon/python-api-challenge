{
 "cells": [
  {
   "cell_type": "markdown",
   "metadata": {},
   "source": [
    "# WeatherPy\n",
    "----\n",
    "\n",
    "#### Note\n",
    "* Instructions have been included for each segment. You do not have to follow them exactly, but they are included to help you think through the steps."
   ]
  },
  {
   "cell_type": "code",
   "execution_count": 1,
   "metadata": {
    "scrolled": true
   },
   "outputs": [],
   "source": [
    "# Dependencies and Setup\n",
    "import matplotlib.pyplot as plt\n",
    "import pandas as pd\n",
    "import numpy as np\n",
    "import json\n",
    "import requests\n",
    "import time\n",
    "from scipy.stats import linregress\n",
    "\n",
    "# Import API key\n",
    "from api_keys import weather_api_key\n",
    "\n",
    "# Incorporated citipy to determine city based on latitude and longitude\n",
    "from citipy import citipy\n",
    "\n",
    "# Output File (CSV)\n",
    "output_data_file = \"output_data/cities.csv\"\n",
    "\n",
    "# Range of latitudes and longitudes\n",
    "lat_range = (-90, 90)\n",
    "lng_range = (-180, 180)"
   ]
  },
  {
   "cell_type": "markdown",
   "metadata": {},
   "source": [
    "## Generate Cities List"
   ]
  },
  {
   "cell_type": "code",
   "execution_count": 31,
   "metadata": {},
   "outputs": [
    {
     "data": {
      "text/plain": [
       "['port-gentil',\n",
       " 'bengkulu',\n",
       " 'znamenskoye',\n",
       " 'tsogni',\n",
       " 'cherskiy',\n",
       " 'kapaa',\n",
       " 'bluff',\n",
       " 'ritchie',\n",
       " 'cabo san lucas',\n",
       " 'victoria',\n",
       " 'mataura',\n",
       " 'nieves',\n",
       " 'bilma',\n",
       " 'anyang',\n",
       " 'meulaboh',\n",
       " 'ushuaia',\n",
       " 'narsaq',\n",
       " 'taolanaro',\n",
       " 'avarua',\n",
       " 'alakurtti',\n",
       " 'chuy',\n",
       " 'albany',\n",
       " 'hithadhoo',\n",
       " 'thompson',\n",
       " 'nampula',\n",
       " 'swan hill',\n",
       " 'saleaula',\n",
       " 'tsihombe',\n",
       " 'sao felix do xingu',\n",
       " 'vila velha',\n",
       " 'artigas',\n",
       " 'pemba',\n",
       " 'pevek',\n",
       " 'vaini',\n",
       " 'punta arenas',\n",
       " 'samusu',\n",
       " 'saint george',\n",
       " 'hilo',\n",
       " 'derzhavinsk',\n",
       " 'chokurdakh',\n",
       " 'hervey bay',\n",
       " 'saint-joseph',\n",
       " 'huinan',\n",
       " 'rikitea',\n",
       " 'tommot',\n",
       " 'port alfred',\n",
       " 'busselton',\n",
       " 'torbay',\n",
       " 'hobart',\n",
       " 'tolyatti',\n",
       " 'faanui',\n",
       " 'belushya guba',\n",
       " 'puerto ayora',\n",
       " 'puerto narino',\n",
       " 'kyaikto',\n",
       " 'touros',\n",
       " 'tuktoyaktuk',\n",
       " 'bethel',\n",
       " 'eureka',\n",
       " 'gawler',\n",
       " 'atuona',\n",
       " 'damghan',\n",
       " 'doha',\n",
       " 'cape town',\n",
       " 'sakakah',\n",
       " 'domoni',\n",
       " 'roald',\n",
       " 'polunochnoye',\n",
       " 'port elizabeth',\n",
       " 'saint-philippe',\n",
       " 'simbahan',\n",
       " 'saint-augustin',\n",
       " 'san patricio',\n",
       " 'hermanus',\n",
       " 'bredasdorp',\n",
       " 'cidreira',\n",
       " 'sitka',\n",
       " 'port keats',\n",
       " 'ponta delgada',\n",
       " 'padampur',\n",
       " 'ngunguru',\n",
       " 'los llanos de aridane',\n",
       " 'saskylakh',\n",
       " 'hirara',\n",
       " 'carnarvon',\n",
       " 'dikson',\n",
       " 'east london',\n",
       " 'podbelsk',\n",
       " 'aripuana',\n",
       " 'marsabit',\n",
       " 'adwa',\n",
       " 'ilulissat',\n",
       " 'parana',\n",
       " 'jamestown',\n",
       " 'palabuhanratu',\n",
       " 'marrakesh',\n",
       " 'new norfolk',\n",
       " 'duiwelskloof',\n",
       " 'souillac',\n",
       " 'ancud',\n",
       " 'houlung',\n",
       " 'vardo',\n",
       " 'yellowknife',\n",
       " 'tual',\n",
       " 'marzuq',\n",
       " 'kahuta',\n",
       " 'upernavik',\n",
       " 'klaksvik',\n",
       " 'nikolskoye',\n",
       " 'lincoln',\n",
       " 'kodiak',\n",
       " 'cayenne',\n",
       " 'marcona',\n",
       " 'waingapu',\n",
       " 'grand river south east',\n",
       " 'makakilo city',\n",
       " 'saint-louis',\n",
       " 'oume',\n",
       " 'dergachi',\n",
       " 'bambous virieux',\n",
       " 'leningradskiy',\n",
       " 'makaryev',\n",
       " 'mar del plata',\n",
       " 'dingle',\n",
       " 'cabra',\n",
       " 'komsomolskiy',\n",
       " 'shima',\n",
       " 'khatanga',\n",
       " 'barentsburg',\n",
       " 'havre-saint-pierre',\n",
       " 'sao joao da barra',\n",
       " 'ribeira grande',\n",
       " 'maraa',\n",
       " 'yoichi',\n",
       " 'stabat',\n",
       " 'huangzhai',\n",
       " 'lagoa',\n",
       " 'pozo colorado',\n",
       " 'hualmay',\n",
       " 'wajima',\n",
       " 'amga',\n",
       " 'baykit',\n",
       " 'attawapiskat',\n",
       " 'sokoto',\n",
       " 'butaritari',\n",
       " 'ibirama',\n",
       " 'phagwara',\n",
       " 'pisco',\n",
       " 'honningsvag',\n",
       " 'hofn',\n",
       " 'san policarpo',\n",
       " 'corning',\n",
       " 'grenfell',\n",
       " 'vestmannaeyjar',\n",
       " 'beloha',\n",
       " 'mys shmidta',\n",
       " 'grindavik',\n",
       " 'longyearbyen',\n",
       " 'teguise',\n",
       " 'mattru',\n",
       " 'san cristobal',\n",
       " 'dunda',\n",
       " 'havoysund',\n",
       " 'nanortalik',\n",
       " 'kokkola',\n",
       " 'mahebourg',\n",
       " 'ladnun',\n",
       " 'ahipara',\n",
       " 'castro',\n",
       " 'prainha',\n",
       " 'russell',\n",
       " 'umm kaddadah',\n",
       " 'margherita',\n",
       " 'namtsy',\n",
       " 'gayeri',\n",
       " 'mana',\n",
       " 'arteaga',\n",
       " 'santa isabel do rio negro',\n",
       " 'qaanaaq',\n",
       " 'la trinidad',\n",
       " 'tiarei',\n",
       " 'ardistan',\n",
       " 'peniche',\n",
       " 'arrecife',\n",
       " 'paradwip',\n",
       " 'grand centre',\n",
       " 'aksha',\n",
       " 'kruisfontein',\n",
       " 'usinsk',\n",
       " 'bajo baudo',\n",
       " 'coihaique',\n",
       " 'severo-kurilsk',\n",
       " 'thayetmyo',\n",
       " 'carballo',\n",
       " 'beringovskiy',\n",
       " 'dhidhdhoo',\n",
       " 'fortuna',\n",
       " 'vao',\n",
       " 'la rioja',\n",
       " 'tchollire',\n",
       " 'aswan',\n",
       " 'geraldton',\n",
       " 'iqaluit',\n",
       " 'mwadui',\n",
       " 'samus',\n",
       " 'port lincoln',\n",
       " 'kaitangata',\n",
       " 'arraial do cabo',\n",
       " 'flinders',\n",
       " 'tilichiki',\n",
       " 'neuquen',\n",
       " 'broome',\n",
       " 'tiksi',\n",
       " 'arona',\n",
       " 'sarkand',\n",
       " 'machico',\n",
       " 'beyneu',\n",
       " 'codrington',\n",
       " 'westport',\n",
       " 'yakeshi',\n",
       " 'nabire',\n",
       " 'uwayl',\n",
       " 'pimentel',\n",
       " 'sibolga',\n",
       " 'tuggurt',\n",
       " 'bowen',\n",
       " 'lavrentiya',\n",
       " 'kennebunk',\n",
       " 'formosa',\n",
       " 'amderma',\n",
       " 'vaitupu',\n",
       " 'keti bandar',\n",
       " 'khandbari',\n",
       " 'barrow',\n",
       " 'krasnoselkup',\n",
       " 'shenjiamen',\n",
       " 'petropavlovsk-kamchatskiy',\n",
       " 'zhangye',\n",
       " 'ucluelet',\n",
       " 'tapaua',\n",
       " 'salalah',\n",
       " 'rondonopolis',\n",
       " 'epernay',\n",
       " 'rio gallegos',\n",
       " 'valleyview',\n",
       " 'launceston',\n",
       " 'provideniya',\n",
       " 'nizhneyansk',\n",
       " 'gizo',\n",
       " 'salinopolis',\n",
       " 'praia da vitoria',\n",
       " 'talnakh',\n",
       " 'port hardy',\n",
       " 'nuuk',\n",
       " 'sumter',\n",
       " 'lemesos',\n",
       " 'norman wells',\n",
       " 'healdsburg',\n",
       " 'andra',\n",
       " 'airai',\n",
       " 'zhigansk',\n",
       " 'comodoro rivadavia',\n",
       " 'slave lake',\n",
       " 'the valley',\n",
       " 'mandera',\n",
       " 'bathsheba',\n",
       " 'hokitika',\n",
       " 'ayagoz',\n",
       " 'wamba',\n",
       " 'college',\n",
       " 'ossora',\n",
       " 'praia',\n",
       " 'mount gambier',\n",
       " 'nyurba',\n",
       " 'bandarbeyla',\n",
       " 'poum',\n",
       " 'makokou',\n",
       " 'stornoway',\n",
       " 'clyde river',\n",
       " 'darhan',\n",
       " 'fairfield',\n",
       " 'kutum',\n",
       " 'yerbogachen',\n",
       " 'potosi',\n",
       " 'pangoa',\n",
       " 'gairatganj',\n",
       " 'georgetown',\n",
       " 'muzhi',\n",
       " 'beaverlodge',\n",
       " 'gari',\n",
       " 'hasaki',\n",
       " 'lebu',\n",
       " 'cherepovets',\n",
       " 'camacha',\n",
       " 'atar',\n",
       " 'capitan bado',\n",
       " 'eisiskes',\n",
       " 'emerald',\n",
       " 'tasiilaq',\n",
       " 'dubbo',\n",
       " 'trelew',\n",
       " 'te anau',\n",
       " 'buchanan',\n",
       " 'iranshahr',\n",
       " 'mungeli',\n",
       " 'winneba',\n",
       " 'adrar',\n",
       " 'port-cartier',\n",
       " 'burica',\n",
       " 'channel-port aux basques',\n",
       " 'ouegoa',\n",
       " 'iquitos',\n",
       " 'egvekinot',\n",
       " 'illoqqortoormiut',\n",
       " 'santiago del estero',\n",
       " 'clarence town',\n",
       " 'sataua',\n",
       " 'inuvik',\n",
       " 'bilibino',\n",
       " 'kralendijk',\n",
       " 'san rafael',\n",
       " 'axim',\n",
       " 'wadi maliz',\n",
       " 'berlevag',\n",
       " 'tarnos',\n",
       " 'iwanai',\n",
       " 'tabiauea',\n",
       " 'inverness',\n",
       " 'marawi',\n",
       " 'tuatapere',\n",
       " 'mnogovershinnyy',\n",
       " 'rio brilhante',\n",
       " 'lodwar',\n",
       " 'banamba',\n",
       " 'eyl',\n",
       " 'ust-kuyga',\n",
       " 'sentyabrskiy',\n",
       " 'hobyo',\n",
       " 'kaeo',\n",
       " 'ji-parana',\n",
       " 'bairiki',\n",
       " 'chapais',\n",
       " 'teya',\n",
       " 'baneh',\n",
       " 'smoky lake',\n",
       " 'nikolayevka',\n",
       " 'jalu',\n",
       " 'sao gabriel da cachoeira',\n",
       " 'ferry pass',\n",
       " 'teknaf',\n",
       " 'rotterdam',\n",
       " 'kdyne',\n",
       " 'lompoc',\n",
       " 'umred',\n",
       " 'creel',\n",
       " 'calbuco',\n",
       " 'labrea',\n",
       " 'yulara',\n",
       " 'northam',\n",
       " 'otradnoye',\n",
       " 'shizunai',\n",
       " 'nacogdoches',\n",
       " 'verkh-usugli',\n",
       " 'wasilla',\n",
       " 'hohhot',\n",
       " 'elbrus',\n",
       " 'hamilton',\n",
       " 'khandyga',\n",
       " 'qeshm',\n",
       " 'ovsyanka',\n",
       " 'ouro fino',\n",
       " 'lolua',\n",
       " 'altay',\n",
       " 'karratha',\n",
       " 'nizwa',\n",
       " 'yong peng',\n",
       " 'banjar',\n",
       " 'lalomanu',\n",
       " 'apatity',\n",
       " 'fairbanks',\n",
       " 'nome',\n",
       " 'pachora',\n",
       " 'varnavino',\n",
       " 'avera',\n",
       " 'necochea',\n",
       " 'kupang',\n",
       " 'pangody',\n",
       " 'xichang',\n",
       " 'lorengau',\n",
       " 'luderitz',\n",
       " 'kazalinsk',\n",
       " 'shahrud',\n",
       " 'saldanha',\n",
       " 'urumqi',\n",
       " 'kirksville',\n",
       " 'isangel',\n",
       " 'ilesha',\n",
       " 'yar-sale',\n",
       " 'christchurch',\n",
       " 'arkhara',\n",
       " 'moramanga',\n",
       " 'umzimvubu',\n",
       " 'nong kung si',\n",
       " 'kavaratti',\n",
       " 'seymchan',\n",
       " 'uyuni',\n",
       " 'korla',\n",
       " 'wampusirpi',\n",
       " 'sambava',\n",
       " 'qianan',\n",
       " 'ambovombe',\n",
       " 'wanning',\n",
       " 'plavinas',\n",
       " 'biltine',\n",
       " 'igrim',\n",
       " 'darnah',\n",
       " 'wencheng',\n",
       " 'coquimbo',\n",
       " 'lethem',\n",
       " 'batagay-alyta',\n",
       " 'bullingen',\n",
       " 'bereda',\n",
       " 'chifeng',\n",
       " 'codajas',\n",
       " 'vredendal',\n",
       " 'shillong',\n",
       " 'natal',\n",
       " 'makinsk',\n",
       " 'laredo',\n",
       " 'omboue',\n",
       " 'chiang klang',\n",
       " 'manbij',\n",
       " 'cockburn town',\n",
       " 'margate',\n",
       " 'kavieng',\n",
       " 'bolungarvik',\n",
       " 'benguela',\n",
       " 'kenai',\n",
       " 'batasan',\n",
       " 'tura',\n",
       " 'casas grandes',\n",
       " 'homer',\n",
       " 'fare',\n",
       " 'kyren',\n",
       " 'sopelana',\n",
       " 'litchfield',\n",
       " 'lakshmipur',\n",
       " 'nalut',\n",
       " 'kununurra',\n",
       " 'paamiut',\n",
       " 'chumikan',\n",
       " 'buraydah',\n",
       " 'dondaicha',\n",
       " 'zhanaozen',\n",
       " 'melilla',\n",
       " 'riberalta',\n",
       " 'qui nhon',\n",
       " 'labutta',\n",
       " 'kathu',\n",
       " 'korgen',\n",
       " 'miami',\n",
       " 'ipora',\n",
       " 'inirida',\n",
       " 'road town',\n",
       " 'ekhabi',\n",
       " 'port macquarie',\n",
       " 'aracaju',\n",
       " 'nikolskoye-na-cheremshane',\n",
       " 'harper',\n",
       " 'poddorye',\n",
       " 'ostrovnoy',\n",
       " 'katsuura',\n",
       " 'drezdenko',\n",
       " 'scottsbluff',\n",
       " 'tanhacu',\n",
       " 'deh rawud',\n",
       " 'sur',\n",
       " 'bonavista',\n",
       " 'alice springs',\n",
       " 'esperance',\n",
       " 'taoudenni',\n",
       " 'padang',\n",
       " 'manzhouli',\n",
       " 'guozhen',\n",
       " 'aykhal',\n",
       " 'nemuro',\n",
       " 'sayyan',\n",
       " 'shahr-e kord',\n",
       " 'hastiere',\n",
       " 'sterlibashevo',\n",
       " 'kedougou',\n",
       " 'pruszkow',\n",
       " 'berbera',\n",
       " 'luangwa',\n",
       " 'la ronge',\n",
       " 'sorland',\n",
       " 'chisec',\n",
       " 'nouakchott',\n",
       " 'tomatlan',\n",
       " 'kudahuvadhoo',\n",
       " 'buala',\n",
       " 'coahuayana',\n",
       " 'kokopo',\n",
       " 'aksarka',\n",
       " 'palmer',\n",
       " 'dumai',\n",
       " 'sisimiut',\n",
       " 'kongolo',\n",
       " 'rundu',\n",
       " 'gat',\n",
       " 'yilan',\n",
       " 'carutapera',\n",
       " 'qasigiannguit',\n",
       " 'north bend',\n",
       " 'kathmandu',\n",
       " 'kolo',\n",
       " 'dengfeng',\n",
       " 'calolziocorte',\n",
       " 'muros',\n",
       " 'nikolayevsk-na-amure',\n",
       " 'leh',\n",
       " 'maniitsoq',\n",
       " 'ilinsko-podomskoye',\n",
       " 'richards bay',\n",
       " 'san juan sacatepequez',\n",
       " 'qaqortoq',\n",
       " 'pyay',\n",
       " 'valparaiso',\n",
       " 'yumen',\n",
       " 'hammerfest',\n",
       " 'vryburg',\n",
       " 'long branch',\n",
       " 'prince rupert',\n",
       " 'vilhena',\n",
       " 'olafsvik',\n",
       " 'wilmington',\n",
       " 'thinadhoo',\n",
       " 'perbaungan',\n",
       " 'charagua',\n",
       " 'kjollefjord',\n",
       " 'alofi',\n",
       " 'sunamganj',\n",
       " 'nanyang',\n",
       " 'portland',\n",
       " 'moengo',\n",
       " 'sao filipe',\n",
       " 'nerchinskiy zavod',\n",
       " 'aden',\n",
       " 'mumford',\n",
       " 'kazachinskoye',\n",
       " 'tautira',\n",
       " 'puerto del rosario',\n",
       " 'hudson bay',\n",
       " 'ca mau',\n",
       " 'asau',\n",
       " 'san luis',\n",
       " 'suhut',\n",
       " 'guder',\n",
       " 'tanggu',\n",
       " 'hambantota',\n",
       " 'wageningen',\n",
       " 'maruim',\n",
       " 'hami',\n",
       " 'jaguey grande',\n",
       " 'kijang',\n",
       " 'kuryk',\n",
       " 'soderhamn',\n",
       " 'belmonte',\n",
       " 'mackenzie',\n",
       " 'turukhansk',\n",
       " 'cururupu',\n",
       " 'ponta do sol',\n",
       " 'jacqueville',\n",
       " 'itoman',\n",
       " 'san carlos',\n",
       " 'joensuu',\n",
       " 'aklavik',\n",
       " 'sharan',\n",
       " 'lieksa',\n",
       " 'skiros',\n",
       " 'price',\n",
       " 'charters towers',\n",
       " 'manado',\n",
       " 'kahului',\n",
       " 'edinet',\n",
       " 'mount isa',\n",
       " 'lianzhou',\n",
       " 'bosaso',\n",
       " 'surgut',\n",
       " 'jutai',\n",
       " 'bonoua',\n",
       " 'hays',\n",
       " 'kargasok',\n",
       " 'lisakovsk',\n",
       " 'cartagena',\n",
       " 'reading',\n",
       " 'puerto escondido',\n",
       " 'paciran',\n",
       " 'barsovo',\n",
       " 'xiaoweizhai',\n",
       " 'bakel',\n",
       " 'chapeco',\n",
       " 'penzance',\n",
       " 'concordia',\n",
       " 'amalapuram',\n",
       " 'guerrero negro',\n",
       " 'rawson',\n",
       " 'bollnas',\n",
       " 'ruatoria',\n",
       " 'mayumba',\n",
       " 'kaoma',\n",
       " 'bandipur',\n",
       " 'chara',\n",
       " 'ngukurr',\n",
       " 'boa vista',\n",
       " 'montepuez',\n",
       " 'tokur',\n",
       " 'lamu',\n",
       " 'oktyabrskiy',\n",
       " 'hihifo',\n",
       " 'iisalmi',\n",
       " 'moose factory',\n",
       " 'san quintin',\n",
       " 'warqla',\n",
       " 'hargeysa',\n",
       " 'astrea',\n",
       " 'yeniseysk',\n",
       " 'jiddah',\n",
       " 'atambua',\n",
       " 'puerto leguizamo',\n",
       " 'tres arroyos',\n",
       " 'mwinilunga',\n",
       " 'tumannyy',\n",
       " 'kodinsk']"
      ]
     },
     "execution_count": 31,
     "metadata": {},
     "output_type": "execute_result"
    }
   ],
   "source": [
    "# List for holding lat_lngs and cities\n",
    "lat_lngs = []\n",
    "cities = []\n",
    "\n",
    "# Create a set of random lat and lng combinations\n",
    "lats = np.random.uniform(lat_range[0], lat_range[1], size=1500)\n",
    "lngs = np.random.uniform(lng_range[0], lng_range[1], size=1500)\n",
    "lat_lngs = zip(lats, lngs)\n",
    "\n",
    "# Identify nearest city for each lat, lng combination\n",
    "for lat_lng in lat_lngs:\n",
    "    city = citipy.nearest_city(lat_lng[0], lat_lng[1]).city_name\n",
    "    \n",
    "    # If the city is unique, then add it to a our cities list\n",
    "    if city not in cities:\n",
    "        cities.append(city)\n",
    "\n",
    "# Print the city count to confirm sufficient count\n",
    "len(cities)\n",
    "cities"
   ]
  },
  {
   "cell_type": "markdown",
   "metadata": {},
   "source": [
    "### Perform API Calls\n",
    "* Perform a weather check on each city using a series of successive API calls.\n",
    "* Include a print log of each city as it'sbeing processed (with the city number and city name).\n"
   ]
  },
  {
   "cell_type": "code",
   "execution_count": 29,
   "metadata": {
    "scrolled": true
   },
   "outputs": [
    {
     "name": "stdout",
     "output_type": "stream",
     "text": [
      "Beginning Data Retrieval\n",
      "-----------------------------------\n",
      "Processing Record of Set | albany 42.6 -73.97 11.67 54 0 0.45 1602195405\n",
      "Processing Record of Set | shingu 33.73 135.98 19.46 93 100 12.9 1602195430\n",
      "Processing Record of Set | clyde river 70.47 -68.59 -7 92 75 5.1 1602195431\n",
      "Processing Record of Set | mataura -46.19 168.86 11.11 66 2 0.89 1602195431\n"
     ]
    },
    {
     "ename": "KeyError",
     "evalue": "'coord'",
     "output_type": "error",
     "traceback": [
      "\u001b[1;31m---------------------------------------------------------------------------\u001b[0m",
      "\u001b[1;31mKeyError\u001b[0m                                  Traceback (most recent call last)",
      "\u001b[1;32m<ipython-input-29-7b40ae892a9c>\u001b[0m in \u001b[0;36m<module>\u001b[1;34m\u001b[0m\n\u001b[0;32m     16\u001b[0m     \u001b[0mresponse\u001b[0m \u001b[1;33m=\u001b[0m \u001b[0mrequests\u001b[0m\u001b[1;33m.\u001b[0m\u001b[0mget\u001b[0m\u001b[1;33m(\u001b[0m\u001b[0mcity_query\u001b[0m\u001b[1;33m)\u001b[0m\u001b[1;33m.\u001b[0m\u001b[0mjson\u001b[0m\u001b[1;33m(\u001b[0m\u001b[1;33m)\u001b[0m\u001b[1;33m\u001b[0m\u001b[1;33m\u001b[0m\u001b[0m\n\u001b[0;32m     17\u001b[0m \u001b[1;33m\u001b[0m\u001b[0m\n\u001b[1;32m---> 18\u001b[1;33m     \u001b[0mcity_lat\u001b[0m \u001b[1;33m=\u001b[0m \u001b[0mresponse\u001b[0m\u001b[1;33m[\u001b[0m\u001b[1;34m'coord'\u001b[0m\u001b[1;33m]\u001b[0m\u001b[1;33m[\u001b[0m\u001b[1;34m'lat'\u001b[0m\u001b[1;33m]\u001b[0m\u001b[1;33m\u001b[0m\u001b[1;33m\u001b[0m\u001b[0m\n\u001b[0m\u001b[0;32m     19\u001b[0m     \u001b[0mcity_lon\u001b[0m \u001b[1;33m=\u001b[0m \u001b[0mresponse\u001b[0m\u001b[1;33m[\u001b[0m\u001b[1;34m'coord'\u001b[0m\u001b[1;33m]\u001b[0m\u001b[1;33m[\u001b[0m\u001b[1;34m'lon'\u001b[0m\u001b[1;33m]\u001b[0m\u001b[1;33m\u001b[0m\u001b[1;33m\u001b[0m\u001b[0m\n\u001b[0;32m     20\u001b[0m     \u001b[0mcity_max_temp\u001b[0m \u001b[1;33m=\u001b[0m \u001b[0mresponse\u001b[0m\u001b[1;33m[\u001b[0m\u001b[1;34m'main'\u001b[0m\u001b[1;33m]\u001b[0m\u001b[1;33m[\u001b[0m\u001b[1;34m'temp_max'\u001b[0m\u001b[1;33m]\u001b[0m\u001b[1;33m\u001b[0m\u001b[1;33m\u001b[0m\u001b[0m\n",
      "\u001b[1;31mKeyError\u001b[0m: 'coord'"
     ]
    }
   ],
   "source": [
    "url = \"http://api.openweathermap.org/data/2.5/weather?\"\n",
    "units = \"metric\"\n",
    "\n",
    "query_url = f\"{url}appid={weather_api_key}&units={units}&q=\"\n",
    "lat = []\n",
    "lon = []\n",
    "temp_max = []\n",
    "humidity = []\n",
    "cloud = []\n",
    "wind = []\n",
    "dt = []\n",
    "print(\"Beginning Data Retrieval\")\n",
    "print(\"-----------------------------------\")\n",
    "for city in cities:\n",
    "    city_query = query_url + city\n",
    "    response = requests.get(city_query).json()\n",
    "    \n",
    "    city_lat = response['coord']['lat']\n",
    "    city_lon = response['coord']['lon']\n",
    "    city_max_temp = response['main']['temp_max']\n",
    "    city_humidity = response['main']['humidity']\n",
    "    city_cloud = response['clouds']['all']\n",
    "    city_wind_speed = response['wind']['speed']\n",
    "    city_date = response['dt']\n",
    "    \n",
    "    lat.append(city_lat)\n",
    "    lon.append(city_lon)\n",
    "    temp_max.append(city_max_temp)\n",
    "    humidity.append(city_humidity)\n",
    "    cloud.append(city_cloud)\n",
    "    wind.append(city_wind_speed)\n",
    "    dt.append(city_date)\n",
    "    \n",
    "    print(f\"Processing Record of Set | {city} {city_lat} {city_lon} {city_max_temp} {city_humidity} {city_cloud} {city_wind_speed} {city_date}\")"
   ]
  },
  {
   "cell_type": "markdown",
   "metadata": {},
   "source": [
    "### Convert Raw Data to DataFrame\n",
    "* Export the city data into a .csv.\n",
    "* Display the DataFrame"
   ]
  },
  {
   "cell_type": "code",
   "execution_count": null,
   "metadata": {},
   "outputs": [],
   "source": []
  },
  {
   "cell_type": "code",
   "execution_count": 30,
   "metadata": {},
   "outputs": [
    {
     "data": {
      "text/html": [
       "<div>\n",
       "<style scoped>\n",
       "    .dataframe tbody tr th:only-of-type {\n",
       "        vertical-align: middle;\n",
       "    }\n",
       "\n",
       "    .dataframe tbody tr th {\n",
       "        vertical-align: top;\n",
       "    }\n",
       "\n",
       "    .dataframe thead th {\n",
       "        text-align: right;\n",
       "    }\n",
       "</style>\n",
       "<table border=\"1\" class=\"dataframe\">\n",
       "  <thead>\n",
       "    <tr style=\"text-align: right;\">\n",
       "      <th></th>\n",
       "      <th>City</th>\n",
       "      <th>Lat</th>\n",
       "      <th>Lng</th>\n",
       "      <th>Max Temp</th>\n",
       "      <th>Humidity</th>\n",
       "      <th>Cloudiness</th>\n",
       "      <th>Wind Speed</th>\n",
       "      <th>Date</th>\n",
       "    </tr>\n",
       "  </thead>\n",
       "  <tbody>\n",
       "    <tr>\n",
       "      <th>0</th>\n",
       "      <td>taolanaro</td>\n",
       "      <td>42.60</td>\n",
       "      <td>-73.97</td>\n",
       "      <td>11.67</td>\n",
       "      <td>54</td>\n",
       "      <td>0</td>\n",
       "      <td>0.45</td>\n",
       "      <td>1602195405</td>\n",
       "    </tr>\n",
       "    <tr>\n",
       "      <th>1</th>\n",
       "      <td>taolanaro</td>\n",
       "      <td>33.73</td>\n",
       "      <td>135.98</td>\n",
       "      <td>19.46</td>\n",
       "      <td>93</td>\n",
       "      <td>100</td>\n",
       "      <td>12.90</td>\n",
       "      <td>1602195430</td>\n",
       "    </tr>\n",
       "    <tr>\n",
       "      <th>2</th>\n",
       "      <td>taolanaro</td>\n",
       "      <td>70.47</td>\n",
       "      <td>-68.59</td>\n",
       "      <td>-7.00</td>\n",
       "      <td>92</td>\n",
       "      <td>75</td>\n",
       "      <td>5.10</td>\n",
       "      <td>1602195431</td>\n",
       "    </tr>\n",
       "    <tr>\n",
       "      <th>3</th>\n",
       "      <td>taolanaro</td>\n",
       "      <td>-46.19</td>\n",
       "      <td>168.86</td>\n",
       "      <td>11.11</td>\n",
       "      <td>66</td>\n",
       "      <td>2</td>\n",
       "      <td>0.89</td>\n",
       "      <td>1602195431</td>\n",
       "    </tr>\n",
       "  </tbody>\n",
       "</table>\n",
       "</div>"
      ],
      "text/plain": [
       "        City    Lat     Lng  Max Temp  Humidity  Cloudiness  Wind Speed  \\\n",
       "0  taolanaro  42.60  -73.97     11.67        54           0        0.45   \n",
       "1  taolanaro  33.73  135.98     19.46        93         100       12.90   \n",
       "2  taolanaro  70.47  -68.59     -7.00        92          75        5.10   \n",
       "3  taolanaro -46.19  168.86     11.11        66           2        0.89   \n",
       "\n",
       "         Date  \n",
       "0  1602195405  \n",
       "1  1602195430  \n",
       "2  1602195431  \n",
       "3  1602195431  "
      ]
     },
     "execution_count": 30,
     "metadata": {},
     "output_type": "execute_result"
    }
   ],
   "source": [
    "weather_data = pd.DataFrame({\"City\": city, \"Lat\": lat, \"Lng\": lon, \"Max Temp\": temp_max, \n",
    "                \"Humidity\": humidity, \"Cloudiness\": cloud, \"Wind Speed\": wind,\n",
    "                \"Date\": dt\n",
    "               })\n",
    "\n",
    "weather_data.to_csv(\"cities.csv\")\n",
    "weather_data\n"
   ]
  },
  {
   "cell_type": "code",
   "execution_count": 21,
   "metadata": {},
   "outputs": [
    {
     "data": {
      "text/html": [
       "<div>\n",
       "<style scoped>\n",
       "    .dataframe tbody tr th:only-of-type {\n",
       "        vertical-align: middle;\n",
       "    }\n",
       "\n",
       "    .dataframe tbody tr th {\n",
       "        vertical-align: top;\n",
       "    }\n",
       "\n",
       "    .dataframe thead th {\n",
       "        text-align: right;\n",
       "    }\n",
       "</style>\n",
       "<table border=\"1\" class=\"dataframe\">\n",
       "  <thead>\n",
       "    <tr style=\"text-align: right;\">\n",
       "      <th></th>\n",
       "      <th>Lat</th>\n",
       "      <th>Lng</th>\n",
       "      <th>Max Temp</th>\n",
       "      <th>Humidity</th>\n",
       "      <th>Cloudiness</th>\n",
       "      <th>Wind Speed</th>\n",
       "      <th>Date</th>\n",
       "    </tr>\n",
       "  </thead>\n",
       "  <tbody>\n",
       "    <tr>\n",
       "      <th>count</th>\n",
       "      <td>4.000000</td>\n",
       "      <td>4.000000</td>\n",
       "      <td>4.000000</td>\n",
       "      <td>4.00000</td>\n",
       "      <td>4.000000</td>\n",
       "      <td>4.000000</td>\n",
       "      <td>4.000000e+00</td>\n",
       "    </tr>\n",
       "    <tr>\n",
       "      <th>mean</th>\n",
       "      <td>25.152500</td>\n",
       "      <td>40.570000</td>\n",
       "      <td>9.030000</td>\n",
       "      <td>77.50000</td>\n",
       "      <td>44.250000</td>\n",
       "      <td>4.447500</td>\n",
       "      <td>1.602194e+09</td>\n",
       "    </tr>\n",
       "    <tr>\n",
       "      <th>std</th>\n",
       "      <td>50.071339</td>\n",
       "      <td>129.867509</td>\n",
       "      <td>10.262716</td>\n",
       "      <td>19.33046</td>\n",
       "      <td>50.979571</td>\n",
       "      <td>5.741576</td>\n",
       "      <td>1.883923e+01</td>\n",
       "    </tr>\n",
       "    <tr>\n",
       "      <th>min</th>\n",
       "      <td>-46.190000</td>\n",
       "      <td>-73.970000</td>\n",
       "      <td>-5.000000</td>\n",
       "      <td>52.00000</td>\n",
       "      <td>0.000000</td>\n",
       "      <td>0.450000</td>\n",
       "      <td>1.602194e+09</td>\n",
       "    </tr>\n",
       "    <tr>\n",
       "      <th>25%</th>\n",
       "      <td>13.750000</td>\n",
       "      <td>-69.935000</td>\n",
       "      <td>5.830000</td>\n",
       "      <td>67.75000</td>\n",
       "      <td>1.500000</td>\n",
       "      <td>1.117500</td>\n",
       "      <td>1.602194e+09</td>\n",
       "    </tr>\n",
       "    <tr>\n",
       "      <th>50%</th>\n",
       "      <td>38.165000</td>\n",
       "      <td>33.695000</td>\n",
       "      <td>10.830000</td>\n",
       "      <td>82.50000</td>\n",
       "      <td>38.500000</td>\n",
       "      <td>2.220000</td>\n",
       "      <td>1.602194e+09</td>\n",
       "    </tr>\n",
       "    <tr>\n",
       "      <th>75%</th>\n",
       "      <td>49.567500</td>\n",
       "      <td>144.200000</td>\n",
       "      <td>14.030000</td>\n",
       "      <td>92.25000</td>\n",
       "      <td>81.250000</td>\n",
       "      <td>5.550000</td>\n",
       "      <td>1.602194e+09</td>\n",
       "    </tr>\n",
       "    <tr>\n",
       "      <th>max</th>\n",
       "      <td>70.470000</td>\n",
       "      <td>168.860000</td>\n",
       "      <td>19.460000</td>\n",
       "      <td>93.00000</td>\n",
       "      <td>100.000000</td>\n",
       "      <td>12.900000</td>\n",
       "      <td>1.602194e+09</td>\n",
       "    </tr>\n",
       "  </tbody>\n",
       "</table>\n",
       "</div>"
      ],
      "text/plain": [
       "             Lat         Lng   Max Temp  Humidity  Cloudiness  Wind Speed  \\\n",
       "count   4.000000    4.000000   4.000000   4.00000    4.000000    4.000000   \n",
       "mean   25.152500   40.570000   9.030000  77.50000   44.250000    4.447500   \n",
       "std    50.071339  129.867509  10.262716  19.33046   50.979571    5.741576   \n",
       "min   -46.190000  -73.970000  -5.000000  52.00000    0.000000    0.450000   \n",
       "25%    13.750000  -69.935000   5.830000  67.75000    1.500000    1.117500   \n",
       "50%    38.165000   33.695000  10.830000  82.50000   38.500000    2.220000   \n",
       "75%    49.567500  144.200000  14.030000  92.25000   81.250000    5.550000   \n",
       "max    70.470000  168.860000  19.460000  93.00000  100.000000   12.900000   \n",
       "\n",
       "               Date  \n",
       "count  4.000000e+00  \n",
       "mean   1.602194e+09  \n",
       "std    1.883923e+01  \n",
       "min    1.602194e+09  \n",
       "25%    1.602194e+09  \n",
       "50%    1.602194e+09  \n",
       "75%    1.602194e+09  \n",
       "max    1.602194e+09  "
      ]
     },
     "execution_count": 21,
     "metadata": {},
     "output_type": "execute_result"
    }
   ],
   "source": [
    "weather_data.describe()"
   ]
  },
  {
   "cell_type": "markdown",
   "metadata": {},
   "source": []
  },
  {
   "cell_type": "markdown",
   "metadata": {},
   "source": [
    "## Inspect the data and remove the cities where the humidity > 100%.\n",
    "----\n",
    "Skip this step if there are no cities that have humidity > 100%. "
   ]
  },
  {
   "cell_type": "code",
   "execution_count": 6,
   "metadata": {},
   "outputs": [
    {
     "data": {
      "text/html": [
       "<div>\n",
       "<style scoped>\n",
       "    .dataframe tbody tr th:only-of-type {\n",
       "        vertical-align: middle;\n",
       "    }\n",
       "\n",
       "    .dataframe tbody tr th {\n",
       "        vertical-align: top;\n",
       "    }\n",
       "\n",
       "    .dataframe thead th {\n",
       "        text-align: right;\n",
       "    }\n",
       "</style>\n",
       "<table border=\"1\" class=\"dataframe\">\n",
       "  <thead>\n",
       "    <tr style=\"text-align: right;\">\n",
       "      <th></th>\n",
       "      <th>Lat</th>\n",
       "      <th>Lng</th>\n",
       "      <th>Max Temp</th>\n",
       "      <th>Humidity</th>\n",
       "      <th>Cloudiness</th>\n",
       "      <th>Wind Speed</th>\n",
       "      <th>Date</th>\n",
       "    </tr>\n",
       "  </thead>\n",
       "  <tbody>\n",
       "    <tr>\n",
       "      <th>count</th>\n",
       "      <td>550.000000</td>\n",
       "      <td>550.000000</td>\n",
       "      <td>550.000000</td>\n",
       "      <td>550.000000</td>\n",
       "      <td>550.000000</td>\n",
       "      <td>550.000000</td>\n",
       "      <td>5.500000e+02</td>\n",
       "    </tr>\n",
       "    <tr>\n",
       "      <th>mean</th>\n",
       "      <td>19.973545</td>\n",
       "      <td>17.124400</td>\n",
       "      <td>58.331400</td>\n",
       "      <td>67.890909</td>\n",
       "      <td>52.141818</td>\n",
       "      <td>8.544800</td>\n",
       "      <td>1.585764e+09</td>\n",
       "    </tr>\n",
       "    <tr>\n",
       "      <th>std</th>\n",
       "      <td>33.284840</td>\n",
       "      <td>91.595451</td>\n",
       "      <td>25.795297</td>\n",
       "      <td>20.864881</td>\n",
       "      <td>35.766469</td>\n",
       "      <td>6.078869</td>\n",
       "      <td>5.539674e+01</td>\n",
       "    </tr>\n",
       "    <tr>\n",
       "      <th>min</th>\n",
       "      <td>-54.800000</td>\n",
       "      <td>-179.170000</td>\n",
       "      <td>-11.340000</td>\n",
       "      <td>9.000000</td>\n",
       "      <td>0.000000</td>\n",
       "      <td>0.160000</td>\n",
       "      <td>1.585764e+09</td>\n",
       "    </tr>\n",
       "    <tr>\n",
       "      <th>25%</th>\n",
       "      <td>-8.077500</td>\n",
       "      <td>-64.627500</td>\n",
       "      <td>42.800000</td>\n",
       "      <td>55.000000</td>\n",
       "      <td>20.000000</td>\n",
       "      <td>4.525000</td>\n",
       "      <td>1.585764e+09</td>\n",
       "    </tr>\n",
       "    <tr>\n",
       "      <th>50%</th>\n",
       "      <td>23.630000</td>\n",
       "      <td>19.635000</td>\n",
       "      <td>64.940000</td>\n",
       "      <td>72.000000</td>\n",
       "      <td>57.000000</td>\n",
       "      <td>7.325000</td>\n",
       "      <td>1.585764e+09</td>\n",
       "    </tr>\n",
       "    <tr>\n",
       "      <th>75%</th>\n",
       "      <td>48.672500</td>\n",
       "      <td>97.350000</td>\n",
       "      <td>78.800000</td>\n",
       "      <td>83.000000</td>\n",
       "      <td>86.750000</td>\n",
       "      <td>11.410000</td>\n",
       "      <td>1.585764e+09</td>\n",
       "    </tr>\n",
       "    <tr>\n",
       "      <th>max</th>\n",
       "      <td>78.220000</td>\n",
       "      <td>179.320000</td>\n",
       "      <td>102.200000</td>\n",
       "      <td>100.000000</td>\n",
       "      <td>100.000000</td>\n",
       "      <td>46.080000</td>\n",
       "      <td>1.585764e+09</td>\n",
       "    </tr>\n",
       "  </tbody>\n",
       "</table>\n",
       "</div>"
      ],
      "text/plain": [
       "              Lat         Lng    Max Temp    Humidity  Cloudiness  Wind Speed  \\\n",
       "count  550.000000  550.000000  550.000000  550.000000  550.000000  550.000000   \n",
       "mean    19.973545   17.124400   58.331400   67.890909   52.141818    8.544800   \n",
       "std     33.284840   91.595451   25.795297   20.864881   35.766469    6.078869   \n",
       "min    -54.800000 -179.170000  -11.340000    9.000000    0.000000    0.160000   \n",
       "25%     -8.077500  -64.627500   42.800000   55.000000   20.000000    4.525000   \n",
       "50%     23.630000   19.635000   64.940000   72.000000   57.000000    7.325000   \n",
       "75%     48.672500   97.350000   78.800000   83.000000   86.750000   11.410000   \n",
       "max     78.220000  179.320000  102.200000  100.000000  100.000000   46.080000   \n",
       "\n",
       "               Date  \n",
       "count  5.500000e+02  \n",
       "mean   1.585764e+09  \n",
       "std    5.539674e+01  \n",
       "min    1.585764e+09  \n",
       "25%    1.585764e+09  \n",
       "50%    1.585764e+09  \n",
       "75%    1.585764e+09  \n",
       "max    1.585764e+09  "
      ]
     },
     "execution_count": 6,
     "metadata": {},
     "output_type": "execute_result"
    }
   ],
   "source": []
  },
  {
   "cell_type": "code",
   "execution_count": 17,
   "metadata": {},
   "outputs": [
    {
     "data": {
      "text/plain": [
       "Int64Index([], dtype='int64')"
      ]
     },
     "execution_count": 17,
     "metadata": {},
     "output_type": "execute_result"
    }
   ],
   "source": [
    "#  Get the indices of cities that have humidity over 100%.\n"
   ]
  },
  {
   "cell_type": "code",
   "execution_count": 19,
   "metadata": {},
   "outputs": [
    {
     "data": {
      "text/html": [
       "<div>\n",
       "<style scoped>\n",
       "    .dataframe tbody tr th:only-of-type {\n",
       "        vertical-align: middle;\n",
       "    }\n",
       "\n",
       "    .dataframe tbody tr th {\n",
       "        vertical-align: top;\n",
       "    }\n",
       "\n",
       "    .dataframe thead th {\n",
       "        text-align: right;\n",
       "    }\n",
       "</style>\n",
       "<table border=\"1\" class=\"dataframe\">\n",
       "  <thead>\n",
       "    <tr style=\"text-align: right;\">\n",
       "      <th></th>\n",
       "      <th>City</th>\n",
       "      <th>Lat</th>\n",
       "      <th>Lng</th>\n",
       "      <th>Max Temp</th>\n",
       "      <th>Humidity</th>\n",
       "      <th>Cloudiness</th>\n",
       "      <th>Wind Speed</th>\n",
       "      <th>Country</th>\n",
       "      <th>Date</th>\n",
       "    </tr>\n",
       "  </thead>\n",
       "  <tbody>\n",
       "    <tr>\n",
       "      <td>0</td>\n",
       "      <td>butaritari</td>\n",
       "      <td>3.07</td>\n",
       "      <td>172.79</td>\n",
       "      <td>83.32</td>\n",
       "      <td>74</td>\n",
       "      <td>84</td>\n",
       "      <td>10.42</td>\n",
       "      <td>KI</td>\n",
       "      <td>1593605283</td>\n",
       "    </tr>\n",
       "    <tr>\n",
       "      <td>1</td>\n",
       "      <td>yerbogachen</td>\n",
       "      <td>61.28</td>\n",
       "      <td>108.01</td>\n",
       "      <td>79.52</td>\n",
       "      <td>58</td>\n",
       "      <td>20</td>\n",
       "      <td>7.70</td>\n",
       "      <td>RU</td>\n",
       "      <td>1593605121</td>\n",
       "    </tr>\n",
       "    <tr>\n",
       "      <td>2</td>\n",
       "      <td>cape town</td>\n",
       "      <td>-33.93</td>\n",
       "      <td>18.42</td>\n",
       "      <td>73.00</td>\n",
       "      <td>77</td>\n",
       "      <td>27</td>\n",
       "      <td>4.70</td>\n",
       "      <td>ZA</td>\n",
       "      <td>1593605039</td>\n",
       "    </tr>\n",
       "    <tr>\n",
       "      <td>3</td>\n",
       "      <td>touba</td>\n",
       "      <td>8.28</td>\n",
       "      <td>-7.68</td>\n",
       "      <td>79.97</td>\n",
       "      <td>75</td>\n",
       "      <td>82</td>\n",
       "      <td>3.58</td>\n",
       "      <td>CI</td>\n",
       "      <td>1593605284</td>\n",
       "    </tr>\n",
       "    <tr>\n",
       "      <td>4</td>\n",
       "      <td>jamestown</td>\n",
       "      <td>42.10</td>\n",
       "      <td>-79.24</td>\n",
       "      <td>64.00</td>\n",
       "      <td>88</td>\n",
       "      <td>1</td>\n",
       "      <td>6.93</td>\n",
       "      <td>US</td>\n",
       "      <td>1593605284</td>\n",
       "    </tr>\n",
       "  </tbody>\n",
       "</table>\n",
       "</div>"
      ],
      "text/plain": [
       "          City    Lat     Lng  Max Temp  Humidity  Cloudiness  Wind Speed  \\\n",
       "0   butaritari   3.07  172.79     83.32        74          84       10.42   \n",
       "1  yerbogachen  61.28  108.01     79.52        58          20        7.70   \n",
       "2    cape town -33.93   18.42     73.00        77          27        4.70   \n",
       "3        touba   8.28   -7.68     79.97        75          82        3.58   \n",
       "4    jamestown  42.10  -79.24     64.00        88           1        6.93   \n",
       "\n",
       "  Country        Date  \n",
       "0      KI  1593605283  \n",
       "1      RU  1593605121  \n",
       "2      ZA  1593605039  \n",
       "3      CI  1593605284  \n",
       "4      US  1593605284  "
      ]
     },
     "execution_count": 19,
     "metadata": {},
     "output_type": "execute_result"
    }
   ],
   "source": [
    "# Make a new DataFrame equal to the city data to drop all humidity outliers by index.\n",
    "# Passing \"inplace=False\" will make a copy of the city_data DataFrame, which we call \"clean_city_data\".\n"
   ]
  },
  {
   "cell_type": "code",
   "execution_count": null,
   "metadata": {},
   "outputs": [],
   "source": [
    "\n"
   ]
  },
  {
   "cell_type": "markdown",
   "metadata": {},
   "source": [
    "## Plotting the Data\n",
    "* Use proper labeling of the plots using plot titles (including date of analysis) and axes labels.\n",
    "* Save the plotted figures as .pngs."
   ]
  },
  {
   "cell_type": "markdown",
   "metadata": {},
   "source": [
    "## Latitude vs. Temperature Plot"
   ]
  },
  {
   "cell_type": "code",
   "execution_count": 23,
   "metadata": {
    "scrolled": true
   },
   "outputs": [
    {
     "data": {
      "text/plain": [
       "<matplotlib.axes._subplots.AxesSubplot at 0x4e98208>"
      ]
     },
     "execution_count": 23,
     "metadata": {},
     "output_type": "execute_result"
    },
    {
     "data": {
      "image/png": "[encoded data removed]",
      "text/plain": [
       "<Figure size 432x288 with 1 Axes>"
      ]
     },
     "metadata": {
      "needs_background": "light"
     },
     "output_type": "display_data"
    }
   ],
   "source": [
    "weather_data.plot(kind='scatter', x='Lat', y='Max Temp')\n"
   ]
  },
  {
   "cell_type": "markdown",
   "metadata": {},
   "source": [
    "## Latitude vs. Humidity Plot"
   ]
  },
  {
   "cell_type": "code",
   "execution_count": 24,
   "metadata": {},
   "outputs": [
    {
     "data": {
      "text/plain": [
       "<matplotlib.axes._subplots.AxesSubplot at 0xa7a2148>"
      ]
     },
     "execution_count": 24,
     "metadata": {},
     "output_type": "execute_result"
    },
    {
     "data": {
      "image/png": "[encoded data removed]",
      "text/plain": [
       "<Figure size 432x288 with 1 Axes>"
      ]
     },
     "metadata": {
      "needs_background": "light"
     },
     "output_type": "display_data"
    }
   ],
   "source": [
    "weather_data.plot(kind='scatter', x='Lat', y='Humidity')"
   ]
  },
  {
   "cell_type": "markdown",
   "metadata": {},
   "source": [
    "## Latitude vs. Cloudiness Plot"
   ]
  },
  {
   "cell_type": "code",
   "execution_count": 26,
   "metadata": {},
   "outputs": [
    {
     "data": {
      "text/plain": [
       "<matplotlib.axes._subplots.AxesSubplot at 0xa807190>"
      ]
     },
     "execution_count": 26,
     "metadata": {},
     "output_type": "execute_result"
    },
    {
     "data": {
      "image/png": "[encoded data removed]",
      "text/plain": [
       "<Figure size 432x288 with 1 Axes>"
      ]
     },
     "metadata": {
      "needs_background": "light"
     },
     "output_type": "display_data"
    }
   ],
   "source": [
    "weather_data.plot(kind='scatter', x='Lat', y='Cloudiness')"
   ]
  },
  {
   "cell_type": "markdown",
   "metadata": {},
   "source": [
    "## Latitude vs. Wind Speed Plot"
   ]
  },
  {
   "cell_type": "code",
   "execution_count": 27,
   "metadata": {},
   "outputs": [
    {
     "data": {
      "text/plain": [
       "<matplotlib.axes._subplots.AxesSubplot at 0xa8350a0>"
      ]
     },
     "execution_count": 27,
     "metadata": {},
     "output_type": "execute_result"
    },
    {
     "data": {
      "image/png": "[encoded data removed]",
      "text/plain": [
       "<Figure size 432x288 with 1 Axes>"
      ]
     },
     "metadata": {
      "needs_background": "light"
     },
     "output_type": "display_data"
    }
   ],
   "source": [
    "weather_data.plot(kind='scatter', x='Lat', y='Wind Speed')"
   ]
  },
  {
   "cell_type": "markdown",
   "metadata": {},
   "source": [
    "## Linear Regression"
   ]
  },
  {
   "cell_type": "code",
   "execution_count": 24,
   "metadata": {},
   "outputs": [],
   "source": []
  },
  {
   "cell_type": "markdown",
   "metadata": {},
   "source": [
    "####  Northern Hemisphere - Max Temp vs. Latitude Linear Regression"
   ]
  },
  {
   "cell_type": "code",
   "execution_count": 25,
   "metadata": {},
   "outputs": [
    {
     "name": "stdout",
     "output_type": "stream",
     "text": [
      "The r-value is: 0.46937863826630627\n"
     ]
    },
    {
     "data": {
      "image/png": "[encoded data removed]",
      "text/plain": [
       "<Figure size 432x288 with 1 Axes>"
      ]
     },
     "metadata": {
      "needs_background": "light"
     },
     "output_type": "display_data"
    }
   ],
   "source": []
  },
  {
   "cell_type": "markdown",
   "metadata": {},
   "source": [
    "####  Southern Hemisphere - Max Temp vs. Latitude Linear Regression"
   ]
  },
  {
   "cell_type": "code",
   "execution_count": 26,
   "metadata": {},
   "outputs": [
    {
     "name": "stdout",
     "output_type": "stream",
     "text": [
      "The r-value is: 0.6082708688906918\n"
     ]
    },
    {
     "data": {
      "image/png": "[encoded data removed]",
      "text/plain": [
       "<Figure size 432x288 with 1 Axes>"
      ]
     },
     "metadata": {
      "needs_background": "light"
     },
     "output_type": "display_data"
    }
   ],
   "source": []
  },
  {
   "cell_type": "markdown",
   "metadata": {},
   "source": [
    "####  Northern Hemisphere - Humidity (%) vs. Latitude Linear Regression"
   ]
  },
  {
   "cell_type": "code",
   "execution_count": 27,
   "metadata": {},
   "outputs": [
    {
     "name": "stdout",
     "output_type": "stream",
     "text": [
      "The r-value is: 0.000543987878808455\n"
     ]
    },
    {
     "data": {
      "image/png": "[encoded data removed]",
      "text/plain": [
       "<Figure size 432x288 with 1 Axes>"
      ]
     },
     "metadata": {
      "needs_background": "light"
     },
     "output_type": "display_data"
    }
   ],
   "source": []
  },
  {
   "cell_type": "markdown",
   "metadata": {},
   "source": [
    "####  Southern Hemisphere - Humidity (%) vs. Latitude Linear Regression"
   ]
  },
  {
   "cell_type": "code",
   "execution_count": 28,
   "metadata": {},
   "outputs": [
    {
     "name": "stdout",
     "output_type": "stream",
     "text": [
      "The r-value is: 0.014985174297345524\n"
     ]
    },
    {
     "data": {
      "image/png": "[encoded data removed]",
      "text/plain": [
       "<Figure size 432x288 with 1 Axes>"
      ]
     },
     "metadata": {
      "needs_background": "light"
     },
     "output_type": "display_data"
    }
   ],
   "source": []
  },
  {
   "cell_type": "markdown",
   "metadata": {},
   "source": [
    "####  Northern Hemisphere - Cloudiness (%) vs. Latitude Linear Regression"
   ]
  },
  {
   "cell_type": "code",
   "execution_count": 29,
   "metadata": {},
   "outputs": [
    {
     "name": "stdout",
     "output_type": "stream",
     "text": [
      "The r-value is: 0.0020898727664228514\n"
     ]
    },
    {
     "data": {
      "image/png": "[encoded data removed]",
      "text/plain": [
       "<Figure size 432x288 with 1 Axes>"
      ]
     },
     "metadata": {
      "needs_background": "light"
     },
     "output_type": "display_data"
    }
   ],
   "source": []
  },
  {
   "cell_type": "markdown",
   "metadata": {},
   "source": [
    "####  Southern Hemisphere - Cloudiness (%) vs. Latitude Linear Regression"
   ]
  },
  {
   "cell_type": "code",
   "execution_count": 30,
   "metadata": {},
   "outputs": [
    {
     "name": "stdout",
     "output_type": "stream",
     "text": [
      "The r-value is: 0.0035263772085582894\n"
     ]
    },
    {
     "data": {
      "image/png": "[encoded data removed]",
      "text/plain": [
       "<Figure size 432x288 with 1 Axes>"
      ]
     },
     "metadata": {
      "needs_background": "light"
     },
     "output_type": "display_data"
    }
   ],
   "source": []
  },
  {
   "cell_type": "markdown",
   "metadata": {},
   "source": [
    "####  Northern Hemisphere - Wind Speed (mph) vs. Latitude Linear Regression"
   ]
  },
  {
   "cell_type": "code",
   "execution_count": 31,
   "metadata": {},
   "outputs": [
    {
     "name": "stdout",
     "output_type": "stream",
     "text": [
      "The r-value is: 0.04019723576144484\n"
     ]
    },
    {
     "data": {
      "image/png": "[encoded data removed]",
      "text/plain": [
       "<Figure size 432x288 with 1 Axes>"
      ]
     },
     "metadata": {
      "needs_background": "light"
     },
     "output_type": "display_data"
    }
   ],
   "source": []
  },
  {
   "cell_type": "markdown",
   "metadata": {},
   "source": [
    "####  Southern Hemisphere - Wind Speed (mph) vs. Latitude Linear Regression"
   ]
  },
  {
   "cell_type": "code",
   "execution_count": 32,
   "metadata": {},
   "outputs": [
    {
     "name": "stdout",
     "output_type": "stream",
     "text": [
      "The r-value is: 0.017128274759839232\n"
     ]
    },
    {
     "data": {
      "image/png": "[encoded data removed]",
      "text/plain": [
       "<Figure size 432x288 with 1 Axes>"
      ]
     },
     "metadata": {
      "needs_background": "light"
     },
     "output_type": "display_data"
    }
   ],
   "source": []
  },
  {
   "cell_type": "code",
   "execution_count": null,
   "metadata": {},
   "outputs": [],
   "source": []
  }
 ],
 "metadata": {
  "anaconda-cloud": {},
  "kernel_info": {
   "name": "python3"
  },
  "kernelspec": {
   "display_name": "Python 3",
   "language": "python",
   "name": "python3"
  },
  "language_info": {
   "codemirror_mode": {
    "name": "ipython",
    "version": 3
   },
   "file_extension": ".py",
   "mimetype": "text/x-python",
   "name": "python",
   "nbconvert_exporter": "python",
   "pygments_lexer": "ipython3",
   "version": "3.8.3"
  },
  "latex_envs": {
   "LaTeX_envs_menu_present": true,
   "autoclose": false,
   "autocomplete": true,
   "bibliofile": "biblio.bib",
   "cite_by": "apalike",
   "current_citInitial": 1,
   "eqLabelWithNumbers": true,
   "eqNumInitial": 1,
   "hotkeys": {
    "equation": "Ctrl-E",
    "itemize": "Ctrl-I"
   },
   "labels_anchors": false,
   "latex_user_defs": false,
   "report_style_numbering": false,
   "user_envs_cfg": false
  },
  "nteract": {
   "version": "0.12.3"
  }
 },
 "nbformat": 4,
 "nbformat_minor": 2
}
